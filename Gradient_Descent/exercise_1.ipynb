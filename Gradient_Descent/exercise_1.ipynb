{
 "cells": [
  {
   "cell_type": "markdown",
   "id": "a0ece4a0",
   "metadata": {},
   "source": [
    "# CSCI 416 - HW1\n",
    "\n",
    "### Name:"
   ]
  },
  {
   "cell_type": "code",
   "execution_count": 408,
   "id": "6cc7b59e",
   "metadata": {},
   "outputs": [
    {
     "ename": "SyntaxError",
     "evalue": "invalid syntax (182514636.py, line 1)",
     "output_type": "error",
     "traceback": [
      "\u001b[0;36m  File \u001b[0;32m\"/var/folders/9k/ywvf61854_j0k_l2ksy1rrsc0000gn/T/ipykernel_87676/182514636.py\"\u001b[0;36m, line \u001b[0;32m1\u001b[0m\n\u001b[0;31m    <font color='black'> William Scott Hanna</font>\u001b[0m\n\u001b[0m    ^\u001b[0m\n\u001b[0;31mSyntaxError\u001b[0m\u001b[0;31m:\u001b[0m invalid syntax\n"
     ]
    }
   ],
   "source": [
    "William 'Scott' Hanna"
   ]
  },
  {
   "cell_type": "markdown",
   "id": "8e7f3ac5",
   "metadata": {},
   "source": [
    "# <font color='red'>Problem 7</font>"
   ]
  },
  {
   "cell_type": "code",
   "execution_count": 386,
   "id": "660ccaa7",
   "metadata": {},
   "outputs": [
    {
     "data": {
      "text/plain": [
       "'1.20.3'"
      ]
     },
     "execution_count": 386,
     "metadata": {},
     "output_type": "execute_result"
    }
   ],
   "source": [
    "import numpy as np\n",
    "np.__version__"
   ]
  },
  {
   "cell_type": "code",
   "execution_count": 390,
   "id": "8212811e",
   "metadata": {},
   "outputs": [
    {
     "data": {
      "text/plain": [
       "array([[-2, -3],\n",
       "       [ 1,  0]])"
      ]
     },
     "execution_count": 390,
     "metadata": {},
     "output_type": "execute_result"
    }
   ],
   "source": [
    "A=np.array([[-2, -3], [1, 0]])\n",
    "B=np.array([[1,1], [1,0]])\n",
    "x=np.array([[-1],[1]])"
   ]
  },
  {
   "cell_type": "code",
   "execution_count": 392,
   "id": "694ac259",
   "metadata": {},
   "outputs": [
    {
     "data": {
      "text/plain": [
       "array([[-2.77555756e-17,  1.00000000e+00],\n",
       "       [-3.33333333e-01, -6.66666667e-01]])"
      ]
     },
     "execution_count": 392,
     "metadata": {},
     "output_type": "execute_result"
    }
   ],
   "source": [
    "C=np.linalg.inv(A)"
   ]
  },
  {
   "cell_type": "code",
   "execution_count": 393,
   "id": "3e80bc33",
   "metadata": {},
   "outputs": [
    {
     "data": {
      "text/plain": [
       "array([[ 1.00000000e+00, -1.11022302e-16],\n",
       "       [-2.77555756e-17,  1.00000000e+00]])"
      ]
     },
     "execution_count": 393,
     "metadata": {},
     "output_type": "execute_result"
    }
   ],
   "source": [
    "I=np.eye(2)\n",
    "np.matmul(A,C)"
   ]
  },
  {
   "cell_type": "code",
   "execution_count": 394,
   "id": "e5a934b0",
   "metadata": {},
   "outputs": [
    {
     "data": {
      "text/plain": [
       "array([[1.00000000e+00, 8.32667268e-17],\n",
       "       [0.00000000e+00, 1.00000000e+00]])"
      ]
     },
     "execution_count": 394,
     "metadata": {},
     "output_type": "execute_result"
    }
   ],
   "source": [
    "np.matmul(C,A)"
   ]
  },
  {
   "cell_type": "code",
   "execution_count": 395,
   "id": "aa48eae4",
   "metadata": {},
   "outputs": [
    {
     "data": {
      "text/plain": [
       "array([[-1],\n",
       "       [-1]])"
      ]
     },
     "execution_count": 395,
     "metadata": {},
     "output_type": "execute_result"
    }
   ],
   "source": [
    "np.matmul(A,x)"
   ]
  },
  {
   "cell_type": "code",
   "execution_count": 396,
   "id": "9b36067b",
   "metadata": {},
   "outputs": [
    {
     "data": {
      "text/plain": [
       "array([[5, 6],\n",
       "       [6, 9]])"
      ]
     },
     "execution_count": 396,
     "metadata": {},
     "output_type": "execute_result"
    }
   ],
   "source": [
    "At=np.transpose(A)\n",
    "np.matmul(At,A)"
   ]
  },
  {
   "cell_type": "code",
   "execution_count": 399,
   "id": "1ae8a876",
   "metadata": {},
   "outputs": [
    {
     "data": {
      "text/plain": [
       "1.4142135623730951"
      ]
     },
     "execution_count": 399,
     "metadata": {},
     "output_type": "execute_result"
    }
   ],
   "source": [
    "np.matmul(A,x)-np.matmul(B,x)"
   ]
  },
  {
   "cell_type": "code",
   "execution_count": 402,
   "id": "03a3f347",
   "metadata": {},
   "outputs": [
    {
     "data": {
      "text/plain": [
       "1.4142135623730951"
      ]
     },
     "execution_count": 402,
     "metadata": {},
     "output_type": "execute_result"
    }
   ],
   "source": [
    "norm=np.sqrt(np.vdot(x,x))\n",
    "norm"
   ]
  },
  {
   "cell_type": "code",
   "execution_count": 403,
   "id": "fd2b2e34",
   "metadata": {},
   "outputs": [
    {
     "data": {
      "text/plain": [
       "1.0"
      ]
     },
     "execution_count": 403,
     "metadata": {},
     "output_type": "execute_result"
    }
   ],
   "source": [
    "norm2=np.sqrt(np.vdot(np.matmul(A,x)-np.matmul(B,x),np.matmul(A,x)-np.matmul(B,x)))\n",
    "norm2"
   ]
  },
  {
   "cell_type": "code",
   "execution_count": 404,
   "id": "52b5a8be",
   "metadata": {},
   "outputs": [
    {
     "name": "stdout",
     "output_type": "stream",
     "text": [
      "[-2  1]\n"
     ]
    }
   ],
   "source": [
    "print(A[:,0])"
   ]
  },
  {
   "cell_type": "code",
   "execution_count": 405,
   "id": "7eaa9271",
   "metadata": {},
   "outputs": [
    {
     "data": {
      "text/plain": [
       "array([[-1,  1],\n",
       "       [ 1,  0]])"
      ]
     },
     "execution_count": 405,
     "metadata": {},
     "output_type": "execute_result"
    }
   ],
   "source": [
    "B[:, [0, 0]]=x\n",
    "B"
   ]
  },
  {
   "cell_type": "code",
   "execution_count": 406,
   "id": "f5035a11",
   "metadata": {},
   "outputs": [
    {
     "data": {
      "text/plain": [
       "array([[6],\n",
       "       [0]])"
      ]
     },
     "execution_count": 406,
     "metadata": {},
     "output_type": "execute_result"
    }
   ],
   "source": [
    "np.multiply(A[:, [0]],A[:, [1]])"
   ]
  },
  {
   "cell_type": "markdown",
   "id": "c0c06edf",
   "metadata": {},
   "source": [
    "# <font color='red'>Problem 8</font>\n",
    "\n",
    "#### *remember to complete part (1) to in hw1.pdf"
   ]
  },
  {
   "cell_type": "markdown",
   "id": "9880f97e",
   "metadata": {},
   "source": [
    "# Imports\n",
    "Run this code to import necessary modules. Note that the functions ``cost_function`` and ``gradient`` imported from module ``gd`` are stubs. You will need to fill in the code in ``gd.py``."
   ]
  },
  {
   "cell_type": "code",
   "execution_count": 127,
   "id": "eb9d6d0b",
   "metadata": {},
   "outputs": [
    {
     "name": "stdout",
     "output_type": "stream",
     "text": [
      "The autoreload extension is already loaded. To reload it, use:\n",
      "  %reload_ext autoreload\n"
     ]
    }
   ],
   "source": [
    "%matplotlib inline\n",
    "\n",
    "%load_ext autoreload\n",
    "%autoreload 2\n",
    "\n",
    "\n",
    "import numpy as np\n",
    "import matplotlib.pyplot as plt\n",
    "from IPython.display import display, clear_output\n",
    "\n",
    "from gd import cost_function, gradient  # stubs\n"
   ]
  },
  {
   "cell_type": "markdown",
   "id": "a16104ac",
   "metadata": {},
   "source": [
    "# Create a simple data set\n",
    "\n",
    "Run this cell to generate and plot some data from the linear model $y \\approx -1 + 2x$, that is, $\\theta_0 = -1$ and  $\\theta_1 = 2$."
   ]
  },
  {
   "cell_type": "code",
   "execution_count": 128,
   "id": "f81b1fe7",
   "metadata": {},
   "outputs": [
    {
     "data": {
      "image/png": "[encoded data removed]",
      "text/plain": [
       "<Figure size 432x288 with 1 Axes>"
      ]
     },
     "metadata": {
      "needs_background": "light"
     },
     "output_type": "display_data"
    }
   ],
   "source": [
    "# Set the random seed so the program will always generate the same data\n",
    "np.random.seed(0)\n",
    "\n",
    "# Generate n random x values between -5 and 5\n",
    "n = 20\n",
    "x = 10 * np.random.rand(n) - 5\n",
    "\n",
    "# Generate y values from the model y ~= 2x - 1\n",
    "epsilon = np.random.randn(n)\n",
    "y = -1 + 2*x + epsilon\n",
    "\n",
    "plt.plot(x, y, marker='o', linestyle='none')\n",
    "plt.show()"
   ]
  },
  {
   "cell_type": "markdown",
   "id": "0f3f6843",
   "metadata": {},
   "source": [
    "# TODO: implement the cost function\n",
    "The squared error cost function is\n",
    "$$\\frac{1}{2} \\sum_{i=1}^m \\big(h_\\theta(x^{(i)}) - y^{(i)}\\big)^2.$$\n",
    "Open the file ``gd.py`` and implement ``cost_function``. Then run this cell to test it out."
   ]
  },
  {
   "cell_type": "code",
   "execution_count": 129,
   "id": "de20edec",
   "metadata": {},
   "outputs": [
    {
     "name": "stdout",
     "output_type": "stream",
     "text": [
      "104.77295199433607\n",
      "744.9538220768487\n",
      "14.090816198013721\n"
     ]
    }
   ],
   "source": [
    "print(cost_function(x, y, 0,  1))   # should print 104.772951994\n",
    "print(cost_function(x, y, 2, -1))   # should print 744.953822077\n",
    "print(cost_function(x, y, -1, 2))   # should print 14.090816198"
   ]
  },
  {
   "cell_type": "markdown",
   "id": "48aec874",
   "metadata": {},
   "source": [
    "# Plotting setup\n",
    "Run this cell. It sets up a routine ``plot_model`` that will be called later to illustrate the progress of gradient descent."
   ]
  },
  {
   "cell_type": "code",
   "execution_count": 130,
   "id": "960e7a4f",
   "metadata": {},
   "outputs": [
    {
     "data": {
      "text/plain": [
       "<Figure size 720x288 with 0 Axes>"
      ]
     },
     "metadata": {},
     "output_type": "display_data"
    }
   ],
   "source": [
    "# Construct a dense grid of (theta_0, theta_1) values\n",
    "theta0_vals = np.linspace(-10, 10)\n",
    "theta1_vals = np.linspace(-10, 10)\n",
    "[THETA0, THETA1] = np.meshgrid(theta0_vals, theta1_vals)\n",
    "\n",
    "# Define a cost function that has x and y \"baked in\"\n",
    "def mycost(theta0, theta1):\n",
    "    return cost_function(x, y, theta0, theta1)\n",
    "\n",
    "# Now vectorize this cost function and apply it simultaneously to all\n",
    "# pairs in dense grid of (theta_0, theta_1) values\n",
    "mycost_vectorized = np.vectorize(mycost)\n",
    "J_SURF = mycost_vectorized(THETA0, THETA1)\n",
    "\n",
    "# Define the test inputs\n",
    "x_test = np.linspace(-5, 5, 100)\n",
    "\n",
    "fig = plt.figure(1, figsize=(10,4))\n",
    "\n",
    "# Create the figure\n",
    "def init_plot():\n",
    "    fig.clf();\n",
    "\n",
    "    # Build left subplot (cost function)\n",
    "    ax1 = fig.add_subplot(1, 2, 1); \n",
    "    ax1.contour(THETA0, THETA1, J_SURF, 20)\n",
    "    ax1.set_xlabel('Intercept theta_0')\n",
    "    ax1.set_ylabel('Slope theta_1')\n",
    "    ax1.set_xlim([-10, 10])\n",
    "    ax1.set_ylim([-10, 10])\n",
    "\n",
    "    # The data will be added later for these plot elements:\n",
    "    line, = ax1.plot([], []);\n",
    "    dot,  = ax1.plot([], [], marker='o');\n",
    "\n",
    "    # Build right subplot (data + current hypothesis)\n",
    "    ax2 = fig.add_subplot(1, 2, 2);\n",
    "    ax2.plot(x, y, marker='o', linestyle='none') \n",
    "    ax2.set_xlim([-6, 6])\n",
    "    ax2.set_ylim([-10, 10])\n",
    "\n",
    "    # The data will be added later for this:\n",
    "    hyp, = ax2.plot( x_test, 0*x_test )\n",
    "    \n",
    "    return line, dot, hyp\n",
    "\n",
    "\n",
    "# Define a function to update the plot\n",
    "def update_plot(theta_0, theta_1, line, dot, hyp):\n",
    "    line.set_xdata( np.append(line.get_xdata(), theta_0 ) )\n",
    "    line.set_ydata( np.append(line.get_ydata(), theta_1 ) )\n",
    "    dot.set_xdata([theta_0])\n",
    "    dot.set_ydata([theta_1])\n",
    "    hyp.set_ydata( theta_0 + theta_1 * x_test )"
   ]
  },
  {
   "cell_type": "markdown",
   "id": "bb5fba00",
   "metadata": {
    "collapsed": true
   },
   "source": [
    "# TODO: implement gradient descent\n",
    "\n",
    "In this cell you will implement gradient descent. Follow these steps:\n",
    "\n",
    "1. Review the mathematical expressions for $\\frac{\\partial}{\\partial \\theta_0} J(\\theta_0, \\theta_1)$ and $\\frac{\\partial}{\\partial \\theta_1} J(\\theta_0, \\theta_1)$ for our model and cost funtion. (**Hint**: they are in the slides!)\n",
    "1. Implement the function ``gradient`` in ``gd.py`` to return these two partial derivatives.\n",
    "1. Complete the code below for gradient descent\n",
    "    * Select a step size\n",
    "    * Run for a fixed number of iterations (say, 20 or 200)\n",
    "    * Update theta_0 and theta_1 using the partial derivatives\n",
    "    * Record the value of the cost function attained in each iteration of gradient descent so you can examine its progress."
   ]
  },
  {
   "cell_type": "code",
   "execution_count": 131,
   "id": "d9e4aca7",
   "metadata": {},
   "outputs": [
    {
     "data": {
      "image/png": "[encoded data removed]",
      "text/plain": [
       "<Figure size 720x288 with 2 Axes>"
      ]
     },
     "metadata": {},
     "output_type": "display_data"
    }
   ],
   "source": [
    "line, dot, hyp = init_plot()\n",
    "\n",
    "iters = 200  # change as needed\n",
    "\n",
    "# TODO: intialize theta_0, theta_1, and step size\n",
    "temp_0=0\n",
    "temp_1=0\n",
    "theta_0=-2\n",
    "theta_1=-2\n",
    "step_size=.01\n",
    "cost_list=[]\n",
    "for i in range(0, iters):\n",
    "    \n",
    "    # Uncomment the code below to display progress of the algorithm so far\n",
    "    # as it runs. \n",
    "    #\n",
    "    cost_list.append(cost_function(x,y,theta_0,theta_1))\n",
    "    clear_output(wait=True)\n",
    "    update_plot(theta_0, theta_1, line, dot, hyp)\n",
    "    display(fig)\n",
    "    \n",
    "    # TODO: write code to get partial derivatives (hint: call gradient in gd.py) \n",
    "    # and update theta_0 and theta_1\n",
    "    temp_0,temp_1=gradient(x,y,theta_0,theta_1)\n",
    "    theta_0=theta_0-step_size*temp_0\n",
    "    theta_1=theta_1-step_size*temp_1\n"
   ]
  },
  {
   "cell_type": "markdown",
   "id": "843ef40c",
   "metadata": {},
   "source": [
    "# TODO: assess convergence\n",
    "Plot the cost function vs. iteration. Did the algorithm converge? (Converging means it found the actual setting of $\\theta$ that minimizes the cost. If the cost went up or did not go down as far as it could, it did not converge.)"
   ]
  },
  {
   "cell_type": "code",
   "execution_count": 132,
   "id": "f55909a1",
   "metadata": {},
   "outputs": [
    {
     "data": {
      "text/plain": [
       "[<matplotlib.lines.Line2D at 0x7fcb3ed9bdf0>]"
      ]
     },
     "execution_count": 132,
     "metadata": {},
     "output_type": "execute_result"
    },
    {
     "data": {
      "image/png": "[encoded data removed]",
      "text/plain": [
       "<Figure size 432x288 with 1 Axes>"
      ]
     },
     "metadata": {
      "needs_background": "light"
     },
     "output_type": "display_data"
    }
   ],
   "source": [
    "fig = plt.figure()\n",
    "ax = plt.axes()\n",
    "\n",
    "x = np.linspace(0, 10, 1000)\n",
    "list_1=[]\n",
    "for i in range(iters):\n",
    "    list_1.append(i)\n",
    "ax.plot(list_1, cost_list)"
   ]
  },
  {
   "cell_type": "markdown",
   "id": "9652c360",
   "metadata": {},
   "source": [
    "# TODO: experiment with step size\n",
    "\n",
    "After you have completed the implementation, do some experiments with different numbers of iterations and step sizes to assess convergence of the algorithm. Report the following:\n",
    "* A step size for which the algorithm converges to the minimum in at most 200 iterations\n",
    "* A step size for which the algorithm converges, but it takes more than 200 iterations\n",
    "* A step size for which the algorithm does not converge, no matter how many iterations are run"
   ]
  },
  {
   "cell_type": "markdown",
   "id": "6f014711",
   "metadata": {},
   "source": [
    "** *Write your answer here*. **"
   ]
  },
  {
   "cell_type": "code",
   "execution_count": null,
   "id": "d0db824f",
   "metadata": {},
   "outputs": [],
   "source": [
    ".01"
   ]
  },
  {
   "cell_type": "code",
   "execution_count": null,
   "id": "ea7222b0",
   "metadata": {},
   "outputs": [],
   "source": [
    ".0001"
   ]
  },
  {
   "cell_type": "code",
   "execution_count": null,
   "id": "3e6a5819",
   "metadata": {},
   "outputs": [],
   "source": [
    "0"
   ]
  },
  {
   "cell_type": "markdown",
   "id": "220ee3d2",
   "metadata": {},
   "source": [
    "# <font color='red'>Problem 9</font>"
   ]
  },
  {
   "cell_type": "markdown",
   "id": "15dba7d7",
   "metadata": {},
   "source": [
    "# Problem Description\n",
    "\n",
    "This notebook will guide you through implementation of **multivariate linear regression** to to solve the **polynomial regression** problem:\n",
    "\n",
    "$$\n",
    "h_{\\theta}(x) = \\theta_0 + \\theta_1 x + \\theta_2 x^2 +  \\theta_3 x^3 + \\theta_4 x^4\n",
    "= \\boldsymbol{\\theta}^T \\mathbf{x}\n",
    "$$\n",
    "\n",
    "$$\n",
    "\\boldsymbol{\\theta} = \\begin{bmatrix}\\theta_0 \\\\ \\theta_1 \\\\ \\theta_2 \\\\ \\theta_3 \\\\ \\theta_4\\end{bmatrix}, \n",
    "\\qquad\n",
    "\\mathbf{x} = \\begin{bmatrix}1 \\\\ x \\\\ x^2 \\\\ x^3 \\\\ x^4\\end{bmatrix}\n",
    "$$\n",
    "\n",
    "Below, you will\n",
    "\n",
    "1. Implement the cost function for multivarate linear regression\n",
    "1. Implement the normal equations method to solve a multivariate linear regression problem\n",
    "1. Implement gradient descent for multivariate linear regression\n",
    "1. Experiment with feature normalization to improve the convergence of gradient descent\n"
   ]
  },
  {
   "cell_type": "markdown",
   "id": "cf678354",
   "metadata": {},
   "source": [
    "## Imports\n",
    "Run this code."
   ]
  },
  {
   "cell_type": "code",
   "execution_count": 319,
   "id": "7c3f1195",
   "metadata": {},
   "outputs": [],
   "source": [
    "%matplotlib inline\n",
    "\n",
    "import numpy as np\n",
    "import matplotlib.pyplot as plt"
   ]
  },
  {
   "cell_type": "markdown",
   "id": "20091ff5",
   "metadata": {},
   "source": [
    "## Helper functions\n",
    "Run this code to set up the helper functions. The function ``feature_expansion`` accepts an vector of $n$ scalar x values and returns an $n \\times 5$ data matrix by applying the feature expansion $x \\mapsto [1, x, x^2, x^3, x^4]$ to each scalar $x$ value."
   ]
  },
  {
   "cell_type": "code",
   "execution_count": 320,
   "id": "8554cfbc",
   "metadata": {},
   "outputs": [],
   "source": [
    "def feature_expansion(x, deg):\n",
    "    if x.ndim > 1:\n",
    "        raise ValueError('x should be a 1-dimensional array')\n",
    "    m = x.shape\n",
    "    x_powers = [x**k for k in range(0,deg+1)]\n",
    "    X = np.stack( x_powers, axis=1 )\n",
    "\n",
    "    return X\n",
    "\n",
    "def plot_model(X_test, theta):\n",
    "    '''\n",
    "    Note: uses globals x, y, x_test, which are assigned below\n",
    "    when the dataset is created. Don't overwrite these variables.\n",
    "    '''\n",
    "    y_test = np.dot(X_test, theta)\n",
    "    plt.scatter(x, y)\n",
    "    plt.plot(x_test, y_test)\n",
    "    plt.legend(['Test', 'Train'])"
   ]
  },
  {
   "cell_type": "markdown",
   "id": "c888a896",
   "metadata": {},
   "source": [
    "## (2 points) List comprehensions\n",
    "\n",
    "Read about list comprehensions. Explain what is happening in the line of code\n",
    "\n",
    "```python\n",
    "x_powers = [x**k for k in range(0,deg+1)]\n",
    "```"
   ]
  },
  {
   "cell_type": "markdown",
   "id": "6403b87c",
   "metadata": {},
   "source": [
    "For k from 0 to deg, raise x to the power of k and then add x^k to the list x_powers"
   ]
  },
  {
   "cell_type": "markdown",
   "id": "12927a46",
   "metadata": {},
   "source": [
    "## Create a data set for polynomial regression\n",
    "\n",
    "Read and run the code below. This generates data from a fourth-degree polynomial and then uses feature expansion to set up the problem of learning the polynomial as multivariate linear regression"
   ]
  },
  {
   "cell_type": "code",
   "execution_count": 383,
   "id": "2eeffcb6",
   "metadata": {},
   "outputs": [
    {
     "data": {
      "image/png": "[encoded data removed]",
      "text/plain": [
       "<Figure size 432x288 with 1 Axes>"
      ]
     },
     "metadata": {
      "needs_background": "light"
     },
     "output_type": "display_data"
    }
   ],
   "source": [
    "# Set random seed\n",
    "np.random.seed(0)\n",
    "\n",
    "# Create random set of m training x values between -5 and 5\n",
    "m = 100\n",
    "x = np.random.rand(m)*10 - 5   \n",
    "\n",
    "# Create evenly spaced test x values (for plotting)\n",
    "x_test  = np.linspace(-5, 5, 100)\n",
    "m_test  = len(x_test);\n",
    "\n",
    "# Feature expansion for training and test x values\n",
    "deg = 4\n",
    "X      = feature_expansion(x, deg)\n",
    "X_test = feature_expansion(x_test, deg)\n",
    "\n",
    "n = deg + 1   # total number of features including the '1' feature\n",
    "\n",
    "# Define parameters (theta) and generate y values\n",
    "theta = 0.1*np.array([1, 1, 10, 0.5, -0.5]);\n",
    "y = np.dot(X, theta) + np.random.randn(m)   # polynomial plus noise\n",
    "\n",
    "# Plot the training data\n",
    "plt.scatter(x, y)\n",
    "plt.title('Training Data')\n",
    "plt.xlabel('x')\n",
    "plt.ylabel('y')\n",
    "plt.show()\n"
   ]
  },
  {
   "cell_type": "markdown",
   "id": "dd3d6d7d",
   "metadata": {},
   "source": [
    "## (2 points) Implement the cost function\n",
    "Complete the code below to implement the cost function for multivariate linear regression."
   ]
  },
  {
   "cell_type": "code",
   "execution_count": 268,
   "id": "4555ee83",
   "metadata": {},
   "outputs": [],
   "source": [
    "def cost_function(X, y, theta):  \n",
    "    '''\n",
    "    Compute the cost function for a particular data set and \n",
    "    hypothesis (parameter vector)\n",
    "    \n",
    "    Inputs: \n",
    "        X       m x n data matrix\n",
    "        y       training output (length m vector)\n",
    "        theta   parameters (length n vector)\n",
    "    Output:\n",
    "        cost    the value of the cost function (scalar)\n",
    "    '''\n",
    "    \n",
    "    # TODO: write correct code to compute the cost function\n",
    "    cost = 0.0\n",
    "    for i in range(len(y)):\n",
    "        cost = (np.vdot(X[i], theta)-y[i])**2+cost\n",
    "    return .5*cost"
   ]
  },
  {
   "cell_type": "markdown",
   "id": "7a134ce6",
   "metadata": {},
   "source": [
    "## Test the cost function\n",
    "Run this to test your cost function."
   ]
  },
  {
   "cell_type": "code",
   "execution_count": 269,
   "id": "baddf198",
   "metadata": {},
   "outputs": [
    {
     "name": "stdout",
     "output_type": "stream",
     "text": [
      "Cost function (random): 54523.64\n",
      "Cost function  (zeros): 845.65\n",
      "Cost function   (ones): 2524681.08\n"
     ]
    }
   ],
   "source": [
    "np.random.seed(1)\n",
    "\n",
    "theta_random = np.random.rand(n)\n",
    "theta_zeros  = np.zeros(n)\n",
    "theta_ones   = np.ones(n)\n",
    "\n",
    "print( \"Cost function (random): %.2f\" % cost_function(X, y, theta_random))  # prints 54523.64\n",
    "print( \"Cost function  (zeros): %.2f\" % cost_function(X, y, theta_zeros))   # prints 845.65\n",
    "print( \"Cost function   (ones): %.2f\" % cost_function(X, y, theta_ones))    # prints 2524681.08"
   ]
  },
  {
   "cell_type": "markdown",
   "id": "19a0d6ff",
   "metadata": {},
   "source": [
    "## (6 points) Implement first training algorithm: normal equations"
   ]
  },
  {
   "cell_type": "code",
   "execution_count": 270,
   "id": "1984f5c6",
   "metadata": {},
   "outputs": [],
   "source": [
    "def normal_equations(X, y):\n",
    "    '''\n",
    "    Train a linear regression model using the normal equations\n",
    "\n",
    "    Inputs: \n",
    "        X       m x n data matrix\n",
    "        y       training output (length m vector)\n",
    "    Output:\n",
    "        theta   parameters (length n vector)\n",
    "\n",
    "    '''\n",
    "    # TODO: write correct code to find theta using the normal equations\n",
    "    m, n = X.shape\n",
    "    theta = np.zeros(n)\n",
    "   \n",
    "    theta=np.matmul(np.matmul(np.linalg.inv(np.matmul(np.transpose(X),X)),np.transpose(X)),y)\n",
    "    return theta"
   ]
  },
  {
   "cell_type": "markdown",
   "id": "d9921878",
   "metadata": {},
   "source": [
    "## Use normal equations to fit the model\n",
    "Run this code to test your implementation of the normal equations. If it runs properly you will see a curve that fits the data well. Note the value of the cost function for ``theta_normal_equations``."
   ]
  },
  {
   "cell_type": "code",
   "execution_count": 271,
   "id": "d2e171e5",
   "metadata": {},
   "outputs": [
    {
     "name": "stdout",
     "output_type": "stream",
     "text": [
      "Cost function: 48.54\n"
     ]
    },
    {
     "data": {
      "image/png": "[encoded data removed]",
      "text/plain": [
       "<Figure size 432x288 with 1 Axes>"
      ]
     },
     "metadata": {
      "needs_background": "light"
     },
     "output_type": "display_data"
    }
   ],
   "source": [
    "theta_normal_equations = normal_equations(X, y)\n",
    "plot_model(X_test, theta_normal_equations)\n",
    "print (\"Cost function: %.2f\" % cost_function(X, y, theta_normal_equations))"
   ]
  },
  {
   "cell_type": "markdown",
   "id": "95fb1ebc",
   "metadata": {},
   "source": [
    "## (6 points) Implement second training algorithm: (vectorized) gradient descent\n",
    "\n",
    "Implement gradient descent for multivariate linear regression. Make sure your solution is vectorized."
   ]
  },
  {
   "cell_type": "code",
   "execution_count": 272,
   "id": "f103c57b",
   "metadata": {},
   "outputs": [],
   "source": [
    "def gradient(X,y, theta):\n",
    "    inner=np.matmul(X,theta)-y\n",
    "    \n",
    "    d_theta=np.matmul(np.transpose(X),inner)\n",
    "    return d_theta\n",
    "        \n",
    "\n",
    "def gradient_descent( X, y, alpha, iters, theta=None ):\n",
    "    '''\n",
    "    Train a linear regression model by gradient descent\n",
    "\n",
    "    Inputs: \n",
    "        X       m x n data matrix\n",
    "        y       training output (length m vector)\n",
    "        alpha   step size\n",
    "        iters   number of iterations\n",
    "        theta   initial parameter values (length n vector; optional)\n",
    "    \n",
    "    Output:\n",
    "        theta      learned parameters (length n vector)\n",
    "        J_history  trace of cost function value in each iteration\n",
    "\n",
    "    '''\n",
    "    list1=[]\n",
    "    m,n = X.shape\n",
    "    \n",
    "    if theta is None:\n",
    "        theta = np.zeros(n)\n",
    "    \n",
    "    # For recording cost function value during gradient descent\n",
    "    J_history = np.zeros(iters)\n",
    "\n",
    "    for i in range(0, iters):\n",
    "        \n",
    "        \n",
    "        \n",
    "        \n",
    "        \n",
    "        \n",
    "        \n",
    "        # TODO: compute gradient (vectorized) and update theta\n",
    "        \n",
    "            \n",
    "        #gets partial derivative with respect to theta_j\n",
    "        theta= theta-alpha*gradient(X,y, theta)  \n",
    "            \n",
    "        # Record cost function\n",
    "        J_history[i] = cost_function(X, y, theta)\n",
    "    \n",
    "    list1=[theta,J_history]\n",
    "    return list1"
   ]
  },
  {
   "cell_type": "markdown",
   "id": "16d9bd9e",
   "metadata": {},
   "source": [
    "## (4 points) Use gradient descent to train the model\n",
    "* Write code to call your ``gradient_descent`` method to learn parameter\n",
    "* Plot the model fit (use ``plot_model``)\n",
    "* Plot the cost function vs. iteration to help assess convergence\n",
    "* Print the final value of the cost function\n",
    "* Experiment with different step sizes and numbers of iterations until you can find a good hypothesis. Try to match the cost function value from ``normal_equations`` to two decimal places. How many iterations does this take?"
   ]
  },
  {
   "cell_type": "code",
   "execution_count": 381,
   "id": "6fe3986d",
   "metadata": {},
   "outputs": [
    {
     "name": "stdout",
     "output_type": "stream",
     "text": [
      "48.54854579982258\n"
     ]
    },
    {
     "data": {
      "image/png": "[encoded data removed]",
      "text/plain": [
       "<Figure size 432x288 with 1 Axes>"
      ]
     },
     "metadata": {
      "needs_background": "light"
     },
     "output_type": "display_data"
    },
    {
     "data": {
      "image/png": "[encoded data removed]",
      "text/plain": [
       "<Figure size 432x288 with 1 Axes>"
      ]
     },
     "metadata": {
      "needs_background": "light"
     },
     "output_type": "display_data"
    }
   ],
   "source": [
    "# TODO: write code\n",
    "iters_p=200000\n",
    "#.00000005,   2000000\n",
    "Theta=gradient_descent(X, y, .0000004, iters_p)\n",
    "plot_model(X_test, Theta[0])\n",
    "\n",
    "fig = plt.figure()\n",
    "ax = plt.axes()\n",
    "\n",
    "x = np.linspace(0, 10, 1000)\n",
    "list_1=[]\n",
    "for i in range(iters_p):\n",
    "    list_1.append(i)\n",
    "ax.plot(list_1,Theta[1])\n",
    "print(Theta[1][iters_p-1])"
   ]
  },
  {
   "cell_type": "markdown",
   "id": "9a6e99de",
   "metadata": {
    "collapsed": true
   },
   "source": [
    "## (10 points) Gradient descent with feature normalization\n",
    "You should have observed\n",
    "that it takes many iterations of gradient descent to match the cost\n",
    "function value achieved by the normal equations. Now\n",
    "you will implement feature normalization to improve the convergence\n",
    "of gradient descent. Remember that the formula\n",
    "for feature normalization is:\n",
    "\n",
    "$$x^{(i)}_j \\leftarrow \\frac{x^{(i)}_j - \\mu_j}{\\sigma_j}$$\n",
    "\n",
    "Here are some guidelines for the implementation:\n",
    "\n",
    "* The same transformation should be applied to train and test data.\n",
    "\n",
    "* The values $\\mu_j$ and $\\sigma_j$ are the mean and standard deviation of\n",
    "the $j$th column (i.e., feature) in the **training data**. (Hint:\n",
    "there are numpy functions to compute these.)\n",
    "\n",
    "* Do not normalize the column of all ones. (Optional question: why?)\n",
    "\n",
    "* Use broadcasting to do the normalization--don't write for loops\n",
    "\n",
    "After normalizing both the training data and test data, follow the same steps as above to experiment with gradient descent using the *normalized* training and test data: print the value of the cost function, and create the same plots. Tune the step size and number of iterations again to make gradient descent converge as quickly as possible. How many iterations does it take to match the cost function value from ``normal_equations`` to two decimal places?  \n"
   ]
  },
  {
   "cell_type": "code",
   "execution_count": 384,
   "id": "eba708ea",
   "metadata": {
    "scrolled": true
   },
   "outputs": [
    {
     "name": "stdout",
     "output_type": "stream",
     "text": [
      "48.53785895045483\n"
     ]
    },
    {
     "data": {
      "image/png": "[encoded data removed]",
      "text/plain": [
       "<Figure size 432x288 with 1 Axes>"
      ]
     },
     "metadata": {
      "needs_background": "light"
     },
     "output_type": "display_data"
    },
    {
     "data": {
      "image/png": "[encoded data removed]",
      "text/plain": [
       "<Figure size 432x288 with 1 Axes>"
      ]
     },
     "metadata": {
      "needs_background": "light"
     },
     "output_type": "display_data"
    }
   ],
   "source": [
    "# TODO: your code for gradient descent with feature normalization\n",
    "\n",
    "\n",
    "\n",
    "def normalize(X):\n",
    "    m,n=X.shape\n",
    "    for j in range(1,n):\n",
    "        mean=np.mean(X[:,j])\n",
    "        stddev=np.std(X[:,j])\n",
    "        X[:,j]=(X[:,j]-mean)/stddev\n",
    "\n",
    "normalize(X)\n",
    "normalize(X_test)\n",
    "iters_p=250\n",
    "Theta=gradient_descent(X, y, .007, iters_p)\n",
    "plot_model(X_test, Theta[0])\n",
    "\n",
    "fig = plt.figure()\n",
    "ax = plt.axes()\n",
    "\n",
    "x = np.linspace(0, 10, 1000)\n",
    "list_1=[]\n",
    "for i in range(iters_p):\n",
    "    list_1.append(i)\n",
    "ax.plot(list_1,Theta[1])\n",
    "print(Theta[1][iters_p-1])\n"
   ]
  },
  {
   "cell_type": "markdown",
   "id": "9b707db1",
   "metadata": {},
   "source": [
    "250 iterations"
   ]
  }
 ],
 "metadata": {
  "kernelspec": {
   "display_name": "Python 3 (ipykernel)",
   "language": "python",
   "name": "python3"
  },
  "language_info": {
   "codemirror_mode": {
    "name": "ipython",
    "version": 3
   },
   "file_extension": ".py",
   "mimetype": "text/x-python",
   "name": "python",
   "nbconvert_exporter": "python",
   "pygments_lexer": "ipython3",
   "version": "3.9.7"
  }
 },
 "nbformat": 4,
 "nbformat_minor": 5
}
