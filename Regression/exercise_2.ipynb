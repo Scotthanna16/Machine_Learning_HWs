{
 "cells": [
  {
   "cell_type": "markdown",
   "id": "17cbf9ac",
   "metadata": {},
   "source": [
    "# CSCI 416 - HW2\n",
    "\n",
    "### Name:"
   ]
  },
  {
   "cell_type": "code",
   "execution_count": null,
   "id": "2acbf133",
   "metadata": {},
   "outputs": [],
   "source": []
  },
  {
   "cell_type": "markdown",
   "id": "6faeda1a",
   "metadata": {},
   "source": [
    "# <font color='red'>Problem 2</font>\n"
   ]
  },
  {
   "cell_type": "markdown",
   "id": "1d584e0a",
   "metadata": {},
   "source": [
    "# Implement Logistic Regression for Book Classification\n",
    "\n",
    "This notebook does the following:\n",
    "\n",
    "* Loads a data set for predicting whether a book is hardcover or paperback from two input features: the thickness of the book and the weight of the book\n",
    "* Normalizes the features\n",
    "* Has a placeholder for your implementation of logistic regression\n",
    "* Plots the data and the decision boundary of the learned model\n",
    "\n",
    "Read below and follow instructions to complete the implementation.\n",
    "\n",
    "## Setup\n",
    "Run the code below to import modules, etc."
   ]
  },
  {
   "cell_type": "code",
   "execution_count": 76,
   "id": "95a49ec1",
   "metadata": {},
   "outputs": [],
   "source": [
    "%matplotlib inline\n",
    "%reload_ext autoreload\n",
    "%autoreload 2\n",
    "\n",
    "import numpy as np\n",
    "import matplotlib.pyplot as plt\n",
    "import pandas as pd\n",
    "\n",
    "from logistic_regression import logistic, cost_function, gradient_descent, gradient"
   ]
  },
  {
   "cell_type": "code",
   "execution_count": 77,
   "id": "c8762300",
   "metadata": {},
   "outputs": [],
   "source": [
    "def normalize_features( X, mu=None, sigma=None ):\n",
    "    '''\n",
    "    Feature normalization\n",
    "    \n",
    "    Inputs:\n",
    "        X       m x n data matrix (either train or test)\n",
    "        mu      vector of means (length n)\n",
    "        sigma   vector of standard deviations (length n)\n",
    "\n",
    "    Outputs:\n",
    "        X_norm  normalized data matrix\n",
    "        mu      vector of means\n",
    "        sigma   vector of standard deviations\n",
    "\n",
    "    IMPORTANT NOTE: \n",
    "        When called for training data, mu and sigma should be computed \n",
    "        from X and returned for later use. When called for test data, \n",
    "        the mu and sigma should be passed in to the function and\n",
    "        *not* computed from X.\n",
    "\n",
    "    '''\n",
    "    if mu is None:\n",
    "        mu    = np.mean(X, axis=0)\n",
    "        sigma = np.std (X, axis=0)\n",
    "\n",
    "    # Don't normalize constant features \n",
    "    mu   [sigma == 0] = 0\n",
    "    sigma[sigma == 0] = 1\n",
    "    X_norm = (X - mu)/sigma\n",
    "\n",
    "    return (X_norm, mu, sigma)"
   ]
  },
  {
   "cell_type": "markdown",
   "id": "b0606032",
   "metadata": {},
   "source": [
    "## Load and Prep Data\n",
    "*Read the code* in the cell below and run it. This loads the book data from file and selects two features to set up the training data ``X`` (data matrix) and ``y`` (label vector). It then normalizes the training data."
   ]
  },
  {
   "cell_type": "code",
   "execution_count": 78,
   "id": "2ed28e65",
   "metadata": {},
   "outputs": [],
   "source": [
    "data = pd.read_csv('book-data.csv', sep=',',header=None).values\n",
    "\n",
    "# % Data columns\n",
    "# %\n",
    "# % 0 - width\n",
    "# % 1 - thickness\n",
    "# % 2 - height\n",
    "# % 3 - pages\n",
    "# % 4 - hardcover\n",
    "# % 5 - weight\n",
    "\n",
    "y = data[:,4]\n",
    "\n",
    "# % Extract the normalized features into named column vectors\n",
    "width     = data[:,0]\n",
    "thickness = data[:,1]\n",
    "height    = data[:,2]\n",
    "pages     = data[:,3]\n",
    "weight    = data[:,5]\n",
    "\n",
    "m = data.shape[0]\n",
    "X = np.stack([np.ones(m), thickness, height], axis=1)\n",
    "n = X.shape[1]\n",
    "\n",
    "X, mu, sigma = normalize_features(X)"
   ]
  },
  {
   "cell_type": "markdown",
   "id": "c4db7299",
   "metadata": {},
   "source": [
    "# (1 point) Implement the ``logistic`` function\n",
    "Open the file ``logistic_regression.py`` and complete the code for the function ``logistic``. Then run the cell below to plot the logistic function for $-10 \\leq z \\leq 10$ to test your implementation --- it should look like the logistic function!"
   ]
  },
  {
   "cell_type": "code",
   "execution_count": 79,
   "id": "ee63ba45",
   "metadata": {},
   "outputs": [
    {
     "data": {
      "image/png": "[encoded data removed]",
      "text/plain": [
       "<Figure size 432x288 with 1 Axes>"
      ]
     },
     "metadata": {
      "needs_background": "light"
     },
     "output_type": "display_data"
    }
   ],
   "source": [
    "z = np.linspace(-10, 10, 100)\n",
    "plt.plot(z, logistic(z))\n",
    "plt.show()"
   ]
  },
  {
   "cell_type": "markdown",
   "id": "6c6c0ceb",
   "metadata": {},
   "source": [
    "# (2 points) Implement ``cost_function``\n",
    "Complete the code for ``cost_function`` in the file ``logistic_regression.py`` to implement the logistic regression cost function. Then test it with the code in the cell below."
   ]
  },
  {
   "cell_type": "code",
   "execution_count": 80,
   "id": "61e0a476",
   "metadata": {},
   "outputs": [
    {
     "name": "stdout",
     "output_type": "stream",
     "text": [
      "[38.81624211]\n"
     ]
    }
   ],
   "source": [
    "theta = np.zeros(n)\n",
    "print(cost_function(X, y, theta)) # prints 38.81624...."
   ]
  },
  {
   "cell_type": "markdown",
   "id": "4f0ad0ca",
   "metadata": {},
   "source": [
    "# Setup for plotting a learned model\n",
    "Run this cell and optionally read the code. It defines a function to help plot the data together with the decision boundary for the model we are about to learn."
   ]
  },
  {
   "cell_type": "code",
   "execution_count": 81,
   "id": "6c1ae50d",
   "metadata": {},
   "outputs": [],
   "source": [
    "def plot_model(X, y, theta):\n",
    "    pos = y==1\n",
    "    neg = y==0\n",
    "\n",
    "    plt.scatter(X[pos,1], X[pos,2], marker='+', color='blue', label='Hardcover')\n",
    "    plt.scatter(X[neg,1], X[neg,2], marker='o', color='red', facecolors='none', label='Paperback')\n",
    "\n",
    "    # plot the decision boundary\n",
    "    x1_min = np.min(X[:,1]) - 0.5\n",
    "    x1_max = np.max(X[:,1]) + 0.5\n",
    "\n",
    "    x1 = np.array([x1_min, x1_max])\n",
    "    x2 = (theta[0] + theta[1]*x1)/(-theta[2])\n",
    "    plt.plot(x1, x2, label='Decision boundary')\n",
    "\n",
    "    plt.xlabel('thickness (normalized)')\n",
    "    plt.ylabel('height (normalized)')\n",
    "    plt.legend(loc='lower right')\n",
    "    plt.show()"
   ]
  },
  {
   "cell_type": "markdown",
   "id": "998f62b4",
   "metadata": {},
   "source": [
    "# (7 points) Implement gradient descent for logistic regression\n",
    "Now complete the code for ``gradient_descent`` in the file ``logistic_regression.py``, which runs gradient descent to find the best parameters ``theta``, and write code in the cell below to:\n",
    "\n",
    "1. Call ``gradient_descent`` to learn ``theta``\n",
    "1. Print the final value of the cost function\n",
    "1. Plot J_history to assess convergence\n",
    "1. Tune the step size and number of iterations if needed until the algorithm converges and the decision boundary (see next cell) looks reasonable\n",
    "1. Print the accuracy---the percentage of correctly classified examples in the training set"
   ]
  },
  {
   "cell_type": "code",
   "execution_count": 83,
   "id": "6cba4b09",
   "metadata": {},
   "outputs": [
    {
     "name": "stdout",
     "output_type": "stream",
     "text": [
      "0.0\n",
      "[-1.]\n",
      "[-15.06202817]\n",
      "[-12.85883017]\n"
     ]
    }
   ],
   "source": [
    "theta = np.zeros(n)\n",
    "print(np.vdot(X[1],np.transpose(theta)))\n",
    "for i in range(0,n):\n",
    "    print(gradient(X,y,theta)[i])"
   ]
  },
  {
   "cell_type": "code",
   "execution_count": 84,
   "id": "a5df7304",
   "metadata": {},
   "outputs": [
    {
     "data": {
      "image/png": "[encoded data removed]",
      "text/plain": [
       "<Figure size 432x288 with 1 Axes>"
      ]
     },
     "metadata": {
      "needs_background": "light"
     },
     "output_type": "display_data"
    },
    {
     "name": "stdout",
     "output_type": "stream",
     "text": [
      "The cost is:36.879543214591855\n"
     ]
    },
    {
     "data": {
      "image/png": "[encoded data removed]",
      "text/plain": [
       "<Figure size 432x288 with 1 Axes>"
      ]
     },
     "metadata": {
      "needs_background": "light"
     },
     "output_type": "display_data"
    }
   ],
   "source": [
    "\n",
    "\n",
    "#\n",
    "# YOUR CODE HERE\n",
    "#\n",
    "alpha=.0001\n",
    "iters=5000\n",
    "Theta=gradient_descent(X,y,alpha,iters,theta)\n",
    "\n",
    "# Plots data and decision boundary. If you have learned a good theta\n",
    "# you will see a decision boundary that separates the data in a \n",
    "# reasonable way.\n",
    "plot_model(X, y, Theta[0])\n",
    "fig = plt.figure()\n",
    "ax = plt.axes()\n",
    "list_1=[]\n",
    "for i in range(iters):\n",
    "    list_1.append(i)\n",
    "ax.plot(list_1,Theta[1])\n",
    "print(\"The cost is:\"+str(Theta[1][iters-1]))"
   ]
  },
  {
   "cell_type": "code",
   "execution_count": 85,
   "id": "93257818",
   "metadata": {},
   "outputs": [],
   "source": [
    "def accuracy(X,y,theta):\n",
    "    m,n=X.shape\n",
    "    cost=0\n",
    "    for i in range(0,m):\n",
    "        temp=logistic(np.array([np.vdot(np.transpose(theta),X[i])]))\n",
    "        yt=0\n",
    "        if(temp[0]>=.5):\n",
    "            yt=1\n",
    "        if(yt-y[i]!=0):\n",
    "            cost+=1\n",
    "  \n",
    "    return 1-(cost/m)\n",
    "    \n",
    "        "
   ]
  },
  {
   "cell_type": "code",
   "execution_count": 86,
   "id": "cbb74ffd",
   "metadata": {},
   "outputs": [
    {
     "data": {
      "text/plain": [
       "0.75"
      ]
     },
     "execution_count": 86,
     "metadata": {},
     "output_type": "execute_result"
    }
   ],
   "source": [
    "accuracy(X,y,Theta[0])"
   ]
  },
  {
   "cell_type": "markdown",
   "id": "381d8539",
   "metadata": {},
   "source": [
    "# <font color='red'>Problem 3</font>\n"
   ]
  },
  {
   "cell_type": "markdown",
   "id": "05626ec4",
   "metadata": {},
   "source": [
    "# Logistic regression for SMS spam classification\n",
    "\n",
    "\n",
    "Each line of the data file `sms.txt`\n",
    "contains a label---either \"spam\" or \"ham\" (i.e. non-spam)---followed\n",
    "by a text message. Here are a few examples (line breaks added for readability):\n",
    "\n",
    "    ham     Ok lar... Joking wif u oni...\n",
    "    ham     Nah I don't think he goes to usf, he lives around here though\n",
    "    spam    Free entry in 2 a wkly comp to win FA Cup final tkts 21st May 2005.\n",
    "            Text FA to 87121 to receive entry question(std txt rate)\n",
    "            T&C's apply 08452810075over18's\n",
    "    spam    WINNER!! As a valued network customer you have been\n",
    "            selected to receivea Â£900 prize reward! To claim\n",
    "            call 09061701461. Claim code KL341. Valid 12 hours only.\n",
    "\n",
    "To create features suitable for logistic regression, code is provided to do the following (using tools from the ``sklearn.feature_extraction.text``):\n",
    "\n",
    "* Convert words to lowercase.\n",
    "* Remove punctuation and special characters (but convert the \\$ and\n",
    "  Â£ symbols to special tokens and keep them, because these are useful for predicting spam).\n",
    "* Create a dictionary containing the 3000 words that appeared\n",
    "  most frequently in the entire set of messages.\n",
    "* Encode each message as a vector $\\mathbf{x}^{(i)} \\in\n",
    "  \\mathbb{R}^{3000}$. The entry $x^{(i)}_j$ is equal to the\n",
    "  number of times the $j$th word in the dictionary appears in that\n",
    "  message.\n",
    "* Discard some ham messages to have an\n",
    "  equal number of spam and ham messages.\n",
    "* Split data into a training set of 1000 messages and a\n",
    "  test set of 400 messages.\n",
    "  \n",
    "Follow the instructions below to complete the implementation. Your job will be to:\n",
    "\n",
    "* Learn $\\boldsymbol{\\theta}$ by gradient descent\n",
    "* Plot the cost history\n",
    "* Make predictions and report the accuracy on the test set\n",
    "* Test out the classifier on a few of your own text messages"
   ]
  },
  {
   "cell_type": "markdown",
   "id": "7258a4f7",
   "metadata": {},
   "source": [
    "# Load and prep data\n",
    "This cell preps the data. Take a look to see how it works, and then run it."
   ]
  },
  {
   "cell_type": "code",
   "execution_count": 88,
   "id": "e06a7d1d",
   "metadata": {},
   "outputs": [],
   "source": [
    "%matplotlib inline\n",
    "%reload_ext autoreload\n",
    "%autoreload 2\n",
    "\n",
    "import numpy as np\n",
    "import re\n",
    "import matplotlib.pyplot as plt\n",
    "import codecs\n",
    "\n",
    "from logistic_regression import logistic, cost_function, gradient_descent\n",
    "from sklearn.feature_extraction.text import CountVectorizer\n",
    "\n",
    "# Preprocess the SMS Spam Collection data set\n",
    "#  \n",
    "#   https://archive.ics.uci.edu/ml/datasets/SMS+Spam+Collection\n",
    "# \n",
    "# From Dan Sheldon\n",
    "\n",
    "numTrain    = 1000\n",
    "numTest     = 494\n",
    "numFeatures = 3000\n",
    "\n",
    "np.random.seed(1)\n",
    "\n",
    "# Open the file\n",
    "f = codecs.open('sms.txt', encoding='utf-8')\n",
    "\n",
    "labels = []    # list of labels for each message\n",
    "docs   = []    # list of messages\n",
    "\n",
    "# Go through each line of file and extract the label and the message\n",
    "for line in f:\n",
    "    l, d= line.strip().split('\\t', 1)\n",
    "    labels.append(l)\n",
    "    docs.append(d)\n",
    "\n",
    "# This function will be called on each message to preprocess it\n",
    "def preprocess(doc):\n",
    "    # Replace all currency signs and some url patterns by special\n",
    "    # tokens. These are useful features.\n",
    "    doc = re.sub('[Â£$]', ' __currency__ ', doc)\n",
    "    doc = re.sub('\\://', ' __url__ ', doc)\n",
    "    doc = doc.lower() # convert to lower\n",
    "    return doc\n",
    "\n",
    "\n",
    "# This is the object that does the conversion from text to feature vectors\n",
    "vectorizer = CountVectorizer(max_features=numFeatures, preprocessor=preprocess)\n",
    "\n",
    "# Do the conversion (\"fit\" the transform from text to feature vector. \n",
    "#   later we will also \"apply\" the tranform on test messages)\n",
    "X = vectorizer.fit_transform(docs)\n",
    "\n",
    "# Convert labels to numbers: 1 = spam, 0 = ham\n",
    "y = np.array([l == 'spam' for l in labels]).astype('int')\n",
    "\n",
    "# The vectorizer returns sparse scipy arrays. Convert this back to a dense \n",
    "#   numpy array --- not as efficient but easier to work with\n",
    "X = X.toarray()\n",
    "m,n = X.shape\n",
    "\n",
    "# Add a column of ones\n",
    "X = np.column_stack([np.ones(m), X])\n",
    "\n",
    "# \n",
    "# Now massage and split into test/train\n",
    "# \n",
    "pos = np.nonzero(y == 1)[0]   # indices of positive training examples\n",
    "neg = np.nonzero(y == 0)[0]   # indices of negative training examples\n",
    "\n",
    "npos = len(pos)\n",
    "\n",
    "# Create a subset that has the same number of positive and negative examples\n",
    "subset = np.concatenate([pos, neg[0:len(pos)] ])\n",
    "\n",
    "# Randomly shuffle order of examples\n",
    "np.random.shuffle(subset)\n",
    "      \n",
    "X = X[subset,:]\n",
    "y = y[subset]\n",
    "\n",
    "# Split into test and train\n",
    "train = np.arange(numTrain)\n",
    "test  = numTrain + np.arange(numTest)\n",
    "\n",
    "X_train = X[train,:]\n",
    "y_train = y[train]\n",
    "\n",
    "X_test  = X[test,:]\n",
    "y_test  = y[test]\n",
    "\n",
    "# Extract the list of test documents\n",
    "test_docs = [docs[i] for i in subset[test]]\n",
    "\n",
    "# Extract the list of tokens (words) in the dictionary\n",
    "tokens = vectorizer.get_feature_names()"
   ]
  },
  {
   "cell_type": "markdown",
   "id": "3927d93f",
   "metadata": {},
   "source": [
    "# Train logistic regresion model\n",
    "Now train the logistic regression model. The comments summarize the relevant variables created by the preprocessing."
   ]
  },
  {
   "cell_type": "code",
   "execution_count": 89,
   "id": "c98239cf",
   "metadata": {},
   "outputs": [],
   "source": [
    "def gradient_v(X,y,theta):\n",
    "    m,n=X.shape\n",
    "    lv=1/(1+np.exp(-(np.dot(X,theta))))\n",
    "    temp=lv-y\n",
    "    temp=np.reshape(temp,m)\n",
    "    d_theta=np.dot(np.transpose(X),temp)\n",
    "    return d_theta\n",
    "    \n",
    "    \n",
    "def gradient_descent_vectorized(X,y,alpha,iters,theta=None):\n",
    "    \n",
    "    list1=[]\n",
    "    m,n = X.shape\n",
    "    \n",
    "    if theta is None:\n",
    "        theta = np.zeros(n)\n",
    "    \n",
    "    # For recording cost function value during gradient descent\n",
    "    J_history = np.zeros(iters)\n",
    "\n",
    "    for i in range(0, iters):\n",
    "        \n",
    "        \n",
    "        # TODO: compute gradient (vectorized) and update theta\n",
    "        \n",
    "            \n",
    "        #gets partial derivative with respect to theta_j\n",
    "        #theta= theta-alpha*gradient_v(X,y, theta)  \n",
    "        theta = theta-alpha*gradient_v(X,y,theta) \n",
    "        # Record cost function\n",
    "        J_history[i] = cost_function(X, y, theta)\n",
    "    \n",
    "    list1=[theta,J_history]\n",
    "    return list1\n",
    "    "
   ]
  },
  {
   "cell_type": "code",
   "execution_count": 90,
   "id": "1506974a",
   "metadata": {
    "scrolled": true
   },
   "outputs": [
    {
     "data": {
      "text/plain": [
       "[<matplotlib.lines.Line2D at 0x7fd56397bfa0>]"
      ]
     },
     "execution_count": 90,
     "metadata": {},
     "output_type": "execute_result"
    },
    {
     "data": {
      "image/png": "[encoded data removed]",
      "text/plain": [
       "<Figure size 432x288 with 1 Axes>"
      ]
     },
     "metadata": {
      "needs_background": "light"
     },
     "output_type": "display_data"
    }
   ],
   "source": [
    "# X_train     contains information about the words within the training\n",
    "#             messages. the ith row represents the ith training message. \n",
    "#             for a particular text, the entry in the jth column tells\n",
    "#             you how many times the jth dictionary word appears in \n",
    "#             that message\n",
    "#\n",
    "# X_test      similar but for test set\n",
    "#\n",
    "# y_train     ith entry indicates whether message i is spam\n",
    "#\n",
    "# y_test      similar\n",
    "#\n",
    "\n",
    "m, n = X_train.shape\n",
    "\n",
    "theta = np.zeros(n)\n",
    "#Change to vectorized gradient descent to increase speed\n",
    "# YOUR CODE HERE: \n",
    "#  - learn theta by gradient descent \n",
    "#  - plot the cost history\n",
    "#  - tune step size and # iterations if necessary\n",
    "\n",
    "alpha=.002\n",
    "iters=1000\n",
    "Theta=gradient_descent_vectorized(X_train,y_train,alpha,iters,theta)\n",
    "\n",
    "fig = plt.figure()\n",
    "ax = plt.axes()\n",
    "list_1=[]\n",
    "for i in range(iters):\n",
    "    list_1.append(i)\n",
    "ax.plot(list_1,Theta[1])"
   ]
  },
  {
   "cell_type": "markdown",
   "id": "4eb21730",
   "metadata": {},
   "source": [
    "# Make predictions on test set\n",
    "Use the model fit in the previous cell to make predictions on the test set and compute the accuracy (percentage of messages in the test set that are classified correctly). You should be able to get accuracy above 95%.\n"
   ]
  },
  {
   "cell_type": "code",
   "execution_count": 91,
   "id": "a23c4ec2",
   "metadata": {},
   "outputs": [
    {
     "name": "stdout",
     "output_type": "stream",
     "text": [
      "0.9655870445344129\n"
     ]
    }
   ],
   "source": [
    "m_test, n_test = X_test.shape\n",
    "\n",
    "# YOUR CODE HERE\n",
    "#  - use theta to make predictions for test set\n",
    "#  - print the accuracy on the test set---i.e., the precent of messages classified correctly\n",
    "print(accuracy(X_test,y_test,Theta[0]))"
   ]
  },
  {
   "cell_type": "markdown",
   "id": "8f3d8695",
   "metadata": {},
   "source": [
    "# Inspect model parameters\n",
    "Run this code to examine the model parameters you just learned. These parameters assign a postive or negative value to each word --- where positive values are words that tend to be spam and negative values are words that tend to be ham. Do they make sense?"
   ]
  },
  {
   "cell_type": "code",
   "execution_count": 92,
   "id": "afc7fd61",
   "metadata": {},
   "outputs": [
    {
     "name": "stdout",
     "output_type": "stream",
     "text": [
      "Top 10 spam words\n",
      "  +2.9667  __currency__\n",
      "  +2.3596  text\n",
      "  +2.2760  call\n",
      "  +2.1745  txt\n",
      "  +1.9636  reply\n",
      "  +1.9375  service\n",
      "  +1.8322  ringtone\n",
      "  +1.7900  150p\n",
      "  +1.7747  ringtoneking\n",
      "  +1.7151  message\n",
      "\n",
      "Top 10 ham words\n",
      "  -1.4917  my\n",
      "  -1.4643  so\n",
      "  -1.3576  ok\n",
      "  -1.2542  me\n",
      "  -1.2077  later\n",
      "  -1.1836  what\n",
      "  -1.1539  ll\n",
      "  -1.0656  come\n",
      "  -1.0633  he\n",
      "  -1.0155  waiting\n"
     ]
    }
   ],
   "source": [
    "token_weights = Theta[0][1:]\n",
    "\n",
    "def reverse(a):\n",
    "    return a[::-1]\n",
    "\n",
    "most_negative = np.argsort(token_weights)\n",
    "most_positive = reverse(most_negative)\n",
    "\n",
    "k = 10\n",
    "\n",
    "print('Top %d spam words' % k)\n",
    "for i in most_positive[0:k]:\n",
    "    print('  %+.4f  %s' % (token_weights[i], tokens[i]))\n",
    "\n",
    "print('\\nTop %d ham words' % k)\n",
    "for i in most_negative[0:k]:\n",
    "    print('  %+.4f  %s' % (token_weights[i], tokens[i]))\n"
   ]
  },
  {
   "cell_type": "code",
   "execution_count": 93,
   "id": "f3250b00",
   "metadata": {},
   "outputs": [
    {
     "ename": "SyntaxError",
     "evalue": "invalid syntax (1540416440.py, line 1)",
     "output_type": "error",
     "traceback": [
      "\u001b[0;36m  File \u001b[0;32m\"/var/folders/9k/ywvf61854_j0k_l2ksy1rrsc0000gn/T/ipykernel_14216/1540416440.py\"\u001b[0;36m, line \u001b[0;32m1\u001b[0m\n\u001b[0;31m    Yes, they make sense\u001b[0m\n\u001b[0m                        ^\u001b[0m\n\u001b[0;31mSyntaxError\u001b[0m\u001b[0;31m:\u001b[0m invalid syntax\n"
     ]
    }
   ],
   "source": [
    "Yes, they make sense"
   ]
  },
  {
   "cell_type": "markdown",
   "id": "f8f773ae",
   "metadata": {},
   "source": [
    "## Make a prediction on new messages\n",
    "Type a few of your own messages in below and make predictions. Are they ham or spam? Do the predictions make sense?"
   ]
  },
  {
   "cell_type": "code",
   "execution_count": 94,
   "id": "f2fb5865",
   "metadata": {},
   "outputs": [
    {
     "data": {
      "text/plain": [
       "1.0"
      ]
     },
     "execution_count": 94,
     "metadata": {},
     "output_type": "execute_result"
    }
   ],
   "source": [
    "def extract_features(msg):\n",
    "    x = vectorizer.transform([msg]).toarray()\n",
    "    x = np.insert(x, 0, 1)\n",
    "    return x\n",
    "\n",
    "msg = u'Write your own text here...'\n",
    "x = extract_features(msg)  # this is the feature vector\n",
    "\n",
    "\n",
    "# YOUR CODE HERE\n",
    "#  - try a few texts of your own\n",
    "#  - predict whether they are spam or non-spam\n",
    "\n",
    "x_1=extract_features('Give me your social security number to win $100000')\n",
    "x_2=extract_features('Hello there, I am from the IRS')\n",
    "y_1=[0,0]\n",
    "X_1=np.vstack((x_1,x_2))\n",
    "alpha=.002\n",
    "iters=1000\n",
    "accuracy(X_1, y_1,Theta[0])"
   ]
  },
  {
   "cell_type": "code",
   "execution_count": 95,
   "id": "fbccf8b8",
   "metadata": {},
   "outputs": [
    {
     "ename": "SyntaxError",
     "evalue": "invalid syntax (1540416440.py, line 1)",
     "output_type": "error",
     "traceback": [
      "\u001b[0;36m  File \u001b[0;32m\"/var/folders/9k/ywvf61854_j0k_l2ksy1rrsc0000gn/T/ipykernel_14216/1540416440.py\"\u001b[0;36m, line \u001b[0;32m1\u001b[0m\n\u001b[0;31m    Yes, they make sense\u001b[0m\n\u001b[0m                        ^\u001b[0m\n\u001b[0;31mSyntaxError\u001b[0m\u001b[0;31m:\u001b[0m invalid syntax\n"
     ]
    }
   ],
   "source": [
    "Yes, they make sense"
   ]
  },
  {
   "cell_type": "code",
   "execution_count": null,
   "id": "884f6df7",
   "metadata": {},
   "outputs": [],
   "source": []
  },
  {
   "cell_type": "markdown",
   "id": "abaf18bb",
   "metadata": {},
   "source": [
    "# <font color='red'>Problem 4</font>\n"
   ]
  },
  {
   "cell_type": "markdown",
   "id": "e2e5364e",
   "metadata": {},
   "source": [
    "# Hand-Written Digit Classification\n",
    "\n",
    "In this assignment you will implement multi-class classification for\n",
    "hand-written digits and run a few experiments. The file ``digits-py.mat``\n",
    "is a data file containing the data set, which is split into a\n",
    "training set with 4000 examples, and a test set with 1000 examples.\n",
    "\n",
    "You can import the data as a Python dictionary like this:\n",
    "``` .python\n",
    "data = scipy.io.loadmat('digits-py.mat')\n",
    "```\n",
    "\n",
    "The code in the cell below first does some setup and then imports the data\n",
    "into the following variables for training and test data:\n",
    "\n",
    "* ``X_train`` - 2d array shape 4000 x 400\n",
    "* ``y_train`` - 1d array shape 4000\n",
    "* ``X_test`` - 2d array shape 1000 x 400\n",
    "* ``y_test`` - 1d array shape 1000"
   ]
  },
  {
   "cell_type": "code",
   "execution_count": 96,
   "id": "874d076e",
   "metadata": {
    "scrolled": true
   },
   "outputs": [],
   "source": [
    "%matplotlib inline\n",
    "%reload_ext autoreload\n",
    "%autoreload 2\n",
    "\n",
    "import numpy as np\n",
    "import matplotlib.pyplot as plt\n",
    "\n",
    "# Load train and test data\n",
    "import scipy.io\n",
    "data = scipy.io.loadmat('digits-py.mat')\n",
    "X_train = data['X_train']\n",
    "y_train = data['y_train'].ravel()\n",
    "X_test  = data['X_test']\n",
    "y_test  = data['y_test'].ravel()"
   ]
  },
  {
   "cell_type": "markdown",
   "id": "5b934296",
   "metadata": {},
   "source": [
    "## (2 points) Write code to visualize the data\n",
    "\n",
    "Once you have loaded the data, it is helpful to understand how it represents images. Each row of ``X_train`` and ``X_test`` represents a 20 x 20 image as a vector of length 400 containing the pixel intensity values. To see the original image, you can reshape one row of the train or test data into a 20 x 20 matrix and then visualize it using the matlplotlib ``imshow`` command. \n",
    "\n",
    "Write code using ``np.reshape`` and ``plt.imshow`` to display the 100th training example as an image. (Hint: use ``cmap='gray'`` in ``plt.imshow`` to view as a grayscale image.)"
   ]
  },
  {
   "cell_type": "code",
   "execution_count": 97,
   "id": "df9aa05d",
   "metadata": {},
   "outputs": [
    {
     "data": {
      "text/plain": [
       "<matplotlib.image.AxesImage at 0x7fd55fb9b310>"
      ]
     },
     "execution_count": 97,
     "metadata": {},
     "output_type": "execute_result"
    },
    {
     "data": {
      "image/png": "[encoded data removed]",
      "text/plain": [
       "<Figure size 432x288 with 1 Axes>"
      ]
     },
     "metadata": {
      "needs_background": "light"
     },
     "output_type": "display_data"
    }
   ],
   "source": [
    "\n",
    "# Write code here\n",
    "A=np.reshape(X_train[100],(20,20))\n",
    "plt.imshow(A, cmap='gray')"
   ]
  },
  {
   "cell_type": "markdown",
   "id": "d85868af",
   "metadata": {},
   "source": [
    "## (2 points) Explore the data\n",
    "\n",
    "A utility function ``display_data`` is provided for you to further visualize the data by showing a mosaic of many digits at the same time. For example, you can display the first 25 training examples like this:\n",
    "``` .python\n",
    "display_data( X_train[:25, :] )\n",
    "```\n",
    "\n",
    "Go ahead and do this to visualize the first 25 training examples. Then print the corresponding labels to see if they match."
   ]
  },
  {
   "cell_type": "code",
   "execution_count": 98,
   "id": "1a95c6c9",
   "metadata": {},
   "outputs": [
    {
     "data": {
      "image/png": "[encoded data removed]",
      "text/plain": [
       "<Figure size 432x432 with 1 Axes>"
      ]
     },
     "metadata": {
      "needs_background": "light"
     },
     "output_type": "display_data"
    },
    {
     "name": "stdout",
     "output_type": "stream",
     "text": [
      "[8 6 5 4 5 4 9 7 0 2 1 2 9 6 3 8 4 4 8 1 8 0 7 4 8]\n"
     ]
    }
   ],
   "source": [
    "from one_vs_all import display_data\n",
    "\n",
    "display_data( X_train[:25, :] )\n",
    "print(y_train[:25])"
   ]
  },
  {
   "cell_type": "markdown",
   "id": "47345785",
   "metadata": {},
   "source": [
    "## Alert: notation change!\n",
    "\n",
    "Please read this carefully to understand the notation used in the assignment. We will use logistic regression to solve multi-class classification. For three reasons (ease of displaying parameters as images, compatibility with scikit learn, previewing notation for SVMs and neural networks), we will change the notation as described here.\n",
    "\n",
    "### Old notation\n",
    "Previously we defined our model as\n",
    "$$\n",
    "h_{\\boldsymbol{\\theta}}(\\mathbf{x}) = \\text{logistic}(\\theta_0 + \\theta_1 x_1 + \\ldots + \\theta_n x_n)  = \\text{logistic}(\\boldsymbol{\\theta}^T \\mathbf{x})\n",
    "$$\n",
    "where \n",
    "\n",
    "* $\\mathbf{x} = \\begin{bmatrix}1, x_1, \\ldots, x_n\\end{bmatrix}$ was a feature vector with a 1 added in the first position\n",
    "* $\\boldsymbol{\\theta} = \\begin{bmatrix}\\theta_0, \\theta_1, \\ldots, \\theta_n\\end{bmatrix}$ was a parameter vector with the intercept parameter $\\theta_0$ in the first position\n",
    "\n",
    "### New notation\n",
    "\n",
    "We will now define our model as\n",
    "$$\n",
    "h_{\\mathbf{w}}(\\mathbf{x}) = \\text{logistic}(b + w_1 x_1 + \\ldots + w_n x_n)  = \\text{logistic}(\\mathbf{w}^T \\mathbf{x} + b)\n",
    "$$\n",
    "where \n",
    "\n",
    "* $\\mathbf{x} \\in \\mathbb{R}^n$ is the **original feature vector** with no 1 added\n",
    "* $\\mathbf{w} \\in \\mathbb{R}^n$ is a **weight vector** (equivalent to $\\theta_1, \\ldots, \\theta_n$ in the old notation)\n",
    "* $b$ is a scalar **intercept parameter** (equivalent to $\\theta_0$ in our old notation)"
   ]
  },
  {
   "cell_type": "markdown",
   "id": "4e81b8d0",
   "metadata": {},
   "source": [
    "## (10 points) One-vs-All Logistic Regression\n",
    "\n",
    "Now you will implement one vs. all multi-class classification using logistic regression. Recall the method presented in class. Suppose we are solving a $K$ class problem given training examples in the data matrix $X \\in \\mathbb{R}^{m \\times n}$ and label vector\n",
    "$\\mathbf{y} \\in \\mathbb{R}^{m}$ (the entries of $\\mathbf{y}$ can be from $1$ to\n",
    "$K$). \n",
    "\n",
    "**For each class $c = 1,\\ldots,K$**, fit a logistic regression model\n",
    "to distinguish class $c$ from the others using the\n",
    "labels\n",
    "\n",
    "$$\n",
    "y_c^{(i)} = \n",
    "\\begin{cases}\n",
    "1 & \\text{if } y^{(i)} = c \\\\\n",
    "0 & \\text{otherwise}.\n",
    "\\end{cases}\n",
    "$$\n",
    "\n",
    "This training\n",
    "procedure  will result in a weight vector $\\mathbf{w}_c$ and an intercept parameter $b_c$\n",
    "that can be used to predict the probability that a new example $\\mathbf{x}$ belongs to class $c$:\n",
    "\n",
    "$$\n",
    "\\text{logistic}(\\mathbf{w}_c^T \\mathbf{x} + b_c) = \\text{probability that $\\mathbf{x}$\n",
    "  belongs to class $c$}.\n",
    "$$\n",
    "\n",
    "The overall training procedure will yield one weight vector for each\n",
    "class. To make the final prediction for a new example, select the\n",
    "class with highest predicted probability:\n",
    "\n",
    "$$\n",
    "\\text{predicted class} = \\text{the value of $c$ that maximizes } \\text{logistic}(\\mathbf{w}_c^T \\mathbf{x} + b_c).\n",
    "$$"
   ]
  },
  {
   "cell_type": "markdown",
   "id": "ef11ddca",
   "metadata": {},
   "source": [
    "### Training ###\n",
    "\n",
    "Open the file ``one_vs_all.py`` and complete the function ``train_one_vs_all`` \n",
    "to train binary classifiers using the procedure outlined \n",
    "above. I have included a function for training a regularized logistic regression \n",
    "model, which you can call like this:\n",
    "\n",
    "``` .python\n",
    "weight_vector, intercept = fit_logistic_regression(X, y, lambda_val)\n",
    "```\n",
    "\n",
    "Follow the instructions in the file for more details. Once you are done, test your implementation by running the code below to train the model and display the weight \n",
    "vectors as images. You should see images that are recognizable as the digits 0 through 9 (some are only vague impressions of the digit)."
   ]
  },
  {
   "cell_type": "code",
   "execution_count": 99,
   "id": "c9cd6523",
   "metadata": {},
   "outputs": [
    {
     "data": {
      "image/png": "[encoded data removed]",
      "text/plain": [
       "<Figure size 432x432 with 1 Axes>"
      ]
     },
     "metadata": {
      "needs_background": "light"
     },
     "output_type": "display_data"
    }
   ],
   "source": [
    "from one_vs_all import train_one_vs_all\n",
    "\n",
    "lambda_val = 100\n",
    "weight_vectors, intercepts = train_one_vs_all(X_train, y_train, 10, lambda_val)\n",
    "display_data(weight_vectors.T) # display weight vectors as images"
   ]
  },
  {
   "cell_type": "markdown",
   "id": "b02d87bb",
   "metadata": {},
   "source": [
    "### Predictions\n",
    "\n",
    "Now complete the function ``predict_one_vs_all`` in ``one_vs_all.py`` and run the code below to make predictions on the train and test sets. You should see accuracy around 88% on the test set."
   ]
  },
  {
   "cell_type": "code",
   "execution_count": 100,
   "id": "f2c55f75",
   "metadata": {
    "scrolled": true
   },
   "outputs": [
    {
     "name": "stdout",
     "output_type": "stream",
     "text": [
      "Training Set Accuracy: 89.275000\n",
      "    Test Set Accuracy: 88.300000\n"
     ]
    }
   ],
   "source": [
    "from one_vs_all import predict_one_vs_all\n",
    "\n",
    "pred_train = predict_one_vs_all(X_train, weight_vectors, intercepts)\n",
    "pred_test  = predict_one_vs_all(X_test,  weight_vectors, intercepts)\n",
    "\n",
    "print(\"Training Set Accuracy: %f\" % (np.mean(pred_train == y_train) * 100))\n",
    "print(\"    Test Set Accuracy: %f\" % (np.mean( pred_test == y_test) * 100))"
   ]
  },
  {
   "cell_type": "markdown",
   "id": "7d7871ed",
   "metadata": {},
   "source": [
    "## (5 points) Regularization Experiment\n",
    "\n",
    "Now you will experiment with different values of the regularization \n",
    "parameter $\\lambda$ to control overfitting. Write code to measure the training \n",
    "and test accuracy for values of $\\lambda$ that are powers of 10 ranging from \n",
    "$10^{-3}$ to $10^5$.\n",
    "\n",
    "* Display the weight vectors for each value of $\\lambda$ as an image using the ``display_data`` function\n",
    "* Save the training and test accuracy for each value of $\\lambda$\n",
    "* Plot training and test accuracy versus lambda (in one plot). "
   ]
  },
  {
   "cell_type": "code",
   "execution_count": 101,
   "id": "e31adb63",
   "metadata": {
    "scrolled": true
   },
   "outputs": [
    {
     "data": {
      "image/png": "[encoded data removed]",
      "text/plain": [
       "<Figure size 432x432 with 1 Axes>"
      ]
     },
     "metadata": {
      "needs_background": "light"
     },
     "output_type": "display_data"
    },
    {
     "data": {
      "image/png": "[encoded data removed]",
      "text/plain": [
       "<Figure size 432x432 with 1 Axes>"
      ]
     },
     "metadata": {
      "needs_background": "light"
     },
     "output_type": "display_data"
    },
    {
     "data": {
      "image/png": "[encoded data removed]",
      "text/plain": [
       "<Figure size 432x432 with 1 Axes>"
      ]
     },
     "metadata": {
      "needs_background": "light"
     },
     "output_type": "display_data"
    },
    {
     "data": {
      "image/png": "[encoded data removed]",
      "text/plain": [
       "<Figure size 432x432 with 1 Axes>"
      ]
     },
     "metadata": {
      "needs_background": "light"
     },
     "output_type": "display_data"
    },
    {
     "data": {
      "image/png": "[encoded data removed]",
      "text/plain": [
       "<Figure size 432x432 with 1 Axes>"
      ]
     },
     "metadata": {
      "needs_background": "light"
     },
     "output_type": "display_data"
    },
    {
     "data": {
      "image/png": "[encoded data removed]",
      "text/plain": [
       "<Figure size 432x432 with 1 Axes>"
      ]
     },
     "metadata": {
      "needs_background": "light"
     },
     "output_type": "display_data"
    },
    {
     "data": {
      "image/png": "[encoded data removed]",
      "text/plain": [
       "<Figure size 432x432 with 1 Axes>"
      ]
     },
     "metadata": {
      "needs_background": "light"
     },
     "output_type": "display_data"
    },
    {
     "data": {
      "image/png": "[encoded data removed]",
      "text/plain": [
       "<Figure size 432x432 with 1 Axes>"
      ]
     },
     "metadata": {
      "needs_background": "light"
     },
     "output_type": "display_data"
    }
   ],
   "source": [
    "lambda_vals = 10**np.arange(-3., 5.)\n",
    "num_classes = 10\n",
    "\n",
    "training_accuracy=[0]*8\n",
    "test_accuracy=[0]*8\n",
    "# Write code here\n",
    "for i in range(len(lambda_vals)):\n",
    "    weight_vectors, intercepts = train_one_vs_all(X_train, y_train, num_classes, lambda_vals[i])\n",
    "    display_data(weight_vectors.T)\n",
    "    pred_train = predict_one_vs_all(X_train, weight_vectors, intercepts)\n",
    "    pred_test  = predict_one_vs_all(X_test,  weight_vectors, intercepts)\n",
    "    training_accuracy[i]=(np.mean(pred_train == y_train) * 100)\n",
    "    test_accuracy[i]=(np.mean( pred_test == y_test) * 100)\n",
    "\n",
    "# In your final plot, use these commands to provide a legend and set \n",
    "# the horizontal axis to have a logarithmic scale so the value of lambda \n",
    "# appear evenly spaced."
   ]
  },
  {
   "cell_type": "code",
   "execution_count": 102,
   "id": "6ebc7a10",
   "metadata": {},
   "outputs": [
    {
     "data": {
      "text/plain": [
       "<matplotlib.legend.Legend at 0x7fd5615acb20>"
      ]
     },
     "execution_count": 102,
     "metadata": {},
     "output_type": "execute_result"
    },
    {
     "data": {
      "image/png": "[encoded data removed]",
      "text/plain": [
       "<Figure size 432x288 with 1 Axes>"
      ]
     },
     "metadata": {
      "needs_background": "light"
     },
     "output_type": "display_data"
    }
   ],
   "source": [
    "\n",
    "fig = plt.figure()\n",
    "ax = plt.axes()\n",
    "plt.xscale('log')\n",
    "list_1=[]\n",
    "for i in range(len(lambda_vals)):\n",
    "    list_1.append(lambda_vals[i])\n",
    "ax.plot(list_1,training_accuracy)\n",
    "ax.plot(list_1,test_accuracy)\n",
    "plt.legend(('train', 'test'))"
   ]
  },
  {
   "cell_type": "markdown",
   "id": "9adfe03a",
   "metadata": {},
   "source": [
    "## (5 points) Regularization Questions \n",
    "\n",
    "1. Does the plot show any evidence of overfitting? If so, for what range of Î» values (roughly) is the model overfit? What do the images of the weight vectors look when the model is overfit? \n",
    "\n",
    "2. Does the plot show any evidence of underfitting? For what range of Î» values (roughly) is the model underfit? What do the images of the weight vectors look like when the model is underfit?\n",
    "\n",
    "3. If you had to choose one value of Î», what would you select?\n",
    "\n",
    "4. Would it make sense to run any additional experiments to look for a better value of Î». If so, what values would you try? \n",
    "\n",
    "** *\n",
    "1. Yes, for any value of lambda>10 it is overfitting. They are to specific to the numbers they represent, basically they look exactly like the digit\n",
    "2. Yes, for lambda<=10^-2. They are just blurry images.\n",
    "3. 10^1\n",
    "4. Well, I would try the numbers from 0-100 because 10 may not be the best in that range, but that range is definitely where the best lamba is\n",
    "* **"
   ]
  },
  {
   "cell_type": "markdown",
   "id": "dd830837",
   "metadata": {},
   "source": [
    "## (6 points) Learning Curve\n",
    "\n",
    "A learning curve shows accuracy on the vertical axis vs. the amount \n",
    "of training data used to learn the model on the horizontal axis. To \n",
    "produce a learning curve, train a sequence of models using subsets \n",
    "of the available training data, starting with only a small fraction \n",
    "of the data and increasing the amount until all of the training data\n",
    "is used. \n",
    "\n",
    "Write code below to train models on training sets of increasing size\n",
    "and then plot both training and test accuracy vs. the amount of training data used.\n",
    "(This time, you do not need to display the weight vectors as images and you \n",
    "will not set the horizontal axis to have log-scale.) \n",
    "\n",
    "#### In this problem, please use the best value of $\\lambda$ you have found. "
   ]
  },
  {
   "cell_type": "code",
   "execution_count": 103,
   "id": "06ee25f2",
   "metadata": {
    "scrolled": false
   },
   "outputs": [
    {
     "name": "stdout",
     "output_type": "stream",
     "text": [
      "4000\n"
     ]
    },
    {
     "data": {
      "text/plain": [
       "[<matplotlib.lines.Line2D at 0x7fd54a336340>]"
      ]
     },
     "execution_count": 103,
     "metadata": {},
     "output_type": "execute_result"
    },
    {
     "data": {
      "image/png": "[encoded data removed]",
      "text/plain": [
       "<Figure size 432x288 with 1 Axes>"
      ]
     },
     "metadata": {
      "needs_background": "light"
     },
     "output_type": "display_data"
    }
   ],
   "source": [
    "m, n = X_train.shape\n",
    "\n",
    "train_sizes = np.arange(250, 4000, 250)\n",
    "nvals = len(train_sizes)\n",
    "\n",
    "# Example: select a subset of 100 training examples\n",
    "p = np.random.permutation(m)\n",
    "selected_examples = p[0:100]\n",
    "X_train_small = X_train[selected_examples,:]\n",
    "y_train_small = y_train[selected_examples]\n",
    "\n",
    "# Write your code here\n",
    "print(m)\n",
    "sizes=[400,800,1200,1600,2000,2400,2800,3200,3600,4000]\n",
    "test_accuracy=[0]*10\n",
    "for i in range(len(sizes)):\n",
    "    selected_examples = p[0:sizes[i]]\n",
    "    X_train_small = X_train[selected_examples,:]\n",
    "    y_train_small = y_train[selected_examples]\n",
    "    weight_vectors, intercepts = train_one_vs_all(X_train_small, y_train_small, num_classes,10)\n",
    "    pred_test  = predict_one_vs_all(X_test,  weight_vectors, intercepts)\n",
    "    test_accuracy[i]=(np.mean( pred_test == y_test) * 100)\n",
    "\n",
    "fig = plt.figure()\n",
    "ax = plt.axes()\n",
    "list_1=[]\n",
    "for i in range(len(sizes)):\n",
    "    list_1.append(sizes[i])\n",
    "ax.plot(sizes,test_accuracy)"
   ]
  },
  {
   "cell_type": "markdown",
   "id": "9fdb013e",
   "metadata": {
    "scrolled": true
   },
   "source": [
    "# (4 points) Learning Curve Questions\n",
    "\n",
    "1. Does the learning curve show evidence that additional training data might improve performance on the test set? Why or why not?\n",
    "\n",
    "2. Is the any relationship between the amount of training data used and the propensity of the model to overfit? Explain what you can conclude from the plot.\n",
    "\n",
    "** *\n",
    "1. Yes, the accuracy increases as the amount of training data increases. \n",
    "2. It does not appear that way, as the accuracy never decreases continuously as the amount of training data increases.\n",
    "* **"
   ]
  },
  {
   "cell_type": "code",
   "execution_count": null,
   "id": "848802e2",
   "metadata": {},
   "outputs": [],
   "source": []
  }
 ],
 "metadata": {
  "anaconda-cloud": {},
  "kernelspec": {
   "display_name": "Python 3 (ipykernel)",
   "language": "python",
   "name": "python3"
  },
  "language_info": {
   "codemirror_mode": {
    "name": "ipython",
    "version": 3
   },
   "file_extension": ".py",
   "mimetype": "text/x-python",
   "name": "python",
   "nbconvert_exporter": "python",
   "pygments_lexer": "ipython3",
   "version": "3.9.7"
  }
 },
 "nbformat": 4,
 "nbformat_minor": 5
}
